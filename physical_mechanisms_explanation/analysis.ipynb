{
 "cells": [
  {
   "cell_type": "code",
   "execution_count": null,
   "id": "67d171b9",
   "metadata": {},
   "outputs": [],
   "source": [
    "import numpy as np  \n",
    "import xesmf as xe\n",
    "import xarray as xr\n",
    "import pandas as pd\n",
    "import netCDF4 as nc\n",
    "import pymannkendall as mk\n",
    "import statsmodels.api as sm\n",
    "import metpy.calc as mpcalc \n",
    "from metpy.units import units \n",
    "from scipy import stats, interpolate\n",
    "import cartopy.crs as ccrs\n",
    "import cartopy.feature as cfeature\n",
    "from cartopy.mpl.ticker import LongitudeFormatter, LatitudeFormatter\n",
    "\n",
    "import warnings\n",
    "warnings.filterwarnings('ignore')\n",
    "\n",
    "import matplotlib as mpl\n",
    "mpl.rcParams['pdf.fonttype'] = 42\n",
    "mpl.rcParams['font.family'] = 'arial'  # times new roman\n",
    "mpl.rcParams['font.size'] = 18"
   ]
  },
  {
   "cell_type": "code",
   "execution_count": null,
   "id": "6e031582",
   "metadata": {},
   "outputs": [],
   "source": [
    "# read and process data\n",
    "sat = xr.open_dataset('/mnt/h/ProcessedData/T2m_2p5.nc').t2m\n",
    "u850= xr.open_dataset('/mnt/h/ProcessedData/u850_2p5.nc').u850\n",
    "v850 = xr.open_dataset('/mnt/h/ProcessedData/v850_2p5.nc').v850\n",
    "u200 = xr.open_dataset('/mnt/h/ProcessedData/u200_2p5.nc').u200\n",
    "v200 = xr.open_dataset('/mnt/h/ProcessedData/v200_2p5.nc').v200\n",
    "vws = xr.open_dataset('/mnt/h/ProcessedData/VWS_2p5.nc').vws / 2\n",
    "\n",
    "U = xr.open_dataset('/mnt/h/ProcessedData/U_2p5.nc').u\n",
    "U_nh = U.where(U['time.month'].isin([6, 7, 8, 9, 10, 11]), drop=True).mean('lon')\n",
    "U_sh = U.where(U['time.month'].isin([12, 1, 2, 3, 4, 5]), drop=True).mean('lon')\n",
    "delta_U_nh = U_nh.sel(time=slice('2001', '2020')).mean('time') - U_nh.sel(time=slice('1980', '2000')).mean('time')\n",
    "delta_U_sh = U_sh.sel(time=slice('2001', '2020')).mean('time') - U_sh.sel(time=slice('1980', '2000')).mean('time')\n",
    "\n",
    "V = xr.open_dataset('/mnt/h/ProcessedData/V_2p5.nc').v\n",
    "V_nh = V.where(V['time.month'].isin([6, 7, 8, 9, 10, 11]), drop=True).mean('lon')\n",
    "V_sh = V.where(V['time.month'].isin([12, 1, 2, 3, 4, 5]), drop=True).mean('lon')\n",
    "delta_V_nh = V_nh.sel(time=slice('2001', '2020')).mean('time') - V_nh.sel(time=slice('1980', '2000')).mean('time')\n",
    "delta_V_sh = V_sh.sel(time=slice('2001', '2020')).mean('time') - V_sh.sel(time=slice('1980', '2000')).mean('time')\n",
    "\n",
    "W = xr.open_dataset('/mnt/h/ProcessedData/W_2p5.nc').w\n",
    "W_nh = W.where(W['time.month'].isin([6, 7, 8, 9, 10, 11]), drop=True).mean('lon')\n",
    "W_sh = W.where(W['time.month'].isin([12, 1, 2, 3, 4, 5]), drop=True).mean('lon')\n",
    "delta_W_nh = W_nh.sel(time=slice('2001', '2020')).mean('time') - W_nh.sel(time=slice('1980', '2000')).mean('time')\n",
    "delta_W_sh = W_sh.sel(time=slice('2001', '2020')).mean('time') - W_sh.sel(time=slice('1980', '2000')).mean('time')\n",
    "\n",
    "MDRs = [\n",
    "    {'name': 'WNP', 'lon_min': 120, 'lon_max': 160, 'lat_min': 5, 'lat_max': 25},\n",
    "    {'name': 'ENP', 'lon_min': 240, 'lon_max': 270, 'lat_min': 5, 'lat_max': 20},\n",
    "    {'name': 'NA', 'lon_min': 310, 'lon_max': 345, 'lat_min': 5, 'lat_max': 20},\n",
    "    {'name': 'SI', 'lon_min': 55, 'lon_max': 105, 'lat_min': -15, 'lat_max': -5},\n",
    "    {'name': 'SP', 'lon_min': 150, 'lon_max': 190, 'lat_min': -20, 'lat_max': -5},\n",
    "    {'name': 'NI', 'lon_min': 60, 'lon_max': 95, 'lat_min': 5, 'lat_max': 20},  \n",
    "]"
   ]
  }
 ],
 "metadata": {
  "kernelspec": {
   "display_name": "py39",
   "language": "python",
   "name": "py39"
  },
  "language_info": {
   "codemirror_mode": {
    "name": "ipython",
    "version": 3
   },
   "file_extension": ".py",
   "mimetype": "text/x-python",
   "name": "python",
   "nbconvert_exporter": "python",
   "pygments_lexer": "ipython3",
   "version": "3.9.13"
  }
 },
 "nbformat": 4,
 "nbformat_minor": 5
}
